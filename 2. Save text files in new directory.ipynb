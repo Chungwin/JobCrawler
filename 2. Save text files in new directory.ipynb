{
 "cells": [
  {
   "cell_type": "code",
   "execution_count": 1,
   "metadata": {},
   "outputs": [],
   "source": [
    "import os\n",
    "\n",
    "# Create target directory & all intermediate directories if don't exists\n",
    "dir_name = '/Users/chung/Desktop/SaveSpace/Docs'\n",
    "os.makedirs(dir_name)"
   ]
  },
  {
   "cell_type": "code",
   "execution_count": 1,
   "metadata": {},
   "outputs": [],
   "source": [
    "from urllib.request import urlopen\n",
    "from bs4 import BeautifulSoup\n",
    "\n",
    "# Save Job Pages as HTML file in directory created above\n",
    "\n",
    "def get_pages_html(number_pages):\n",
    "    pages_times_ten = number_pages * 10\n",
    "\n",
    "    counter = 0\n",
    "    while counter < pages_times_ten:\n",
    "        # Open and crawl page\n",
    "        url = \"https://de.indeed.com/Jobs?l=hamburg&sort=date&start=\" + str(counter) \n",
    "        indeed_jobs_hamburg = urlopen(url)\n",
    "        indeed_jobs_hamburg = BeautifulSoup(indeed_jobs_hamburg, \"html.parser\")\n",
    "        job_column = indeed_jobs_hamburg.find(id=\"resultsCol\") \n",
    "        job_divs = job_column.find_all(class_=\"jobsearch-SerpJobCard unifiedRow row result\")\n",
    "\n",
    "        link_list = []\n",
    "        for item in job_divs:\n",
    "            job_href = item.find(\"a\").attrs['href']\n",
    "            job_link = \"https://de.indeed.com\" + job_href\n",
    "            link_list.append(job_link)\n",
    "\n",
    "        # Create new file for each page in directory\n",
    "        file_counter = 1\n",
    "        for link_job_page in link_list:    \n",
    "            job_page = urlopen(link_job_page)\n",
    "            job_page = BeautifulSoup(job_page, \"html.parser\")    \n",
    "            job_page_html_string = str(job_page)\n",
    "\n",
    "            new_path = '/Users/chung/Desktop/SaveSpace/Docs/' + str(counter) + str(file_counter) + '.txt'\n",
    "            new_days = open(new_path,'w')\n",
    "\n",
    "            # Write into new file\n",
    "            new_days.write(job_page_html_string)\n",
    "            new_days.close()\n",
    "            file_counter += 1\n",
    "\n",
    "        counter += 10\n",
    "        \n",
    "# get_pages_html(2)\n",
    "\n",
    "\n",
    "\n",
    "# TO DO \n",
    "# find better structure and naming for files and directory"
   ]
  },
  {
   "cell_type": "code",
   "execution_count": null,
   "metadata": {},
   "outputs": [],
   "source": []
  }
 ],
 "metadata": {
  "kernelspec": {
   "display_name": "Python 3",
   "language": "python",
   "name": "python3"
  },
  "language_info": {
   "codemirror_mode": {
    "name": "ipython",
    "version": 3
   },
   "file_extension": ".py",
   "mimetype": "text/x-python",
   "name": "python",
   "nbconvert_exporter": "python",
   "pygments_lexer": "ipython3",
   "version": "3.7.3"
  }
 },
 "nbformat": 4,
 "nbformat_minor": 2
}
