{
 "cells": [
  {
   "cell_type": "code",
   "execution_count": 1,
   "metadata": {},
   "outputs": [],
   "source": [
    "import os\n",
    "from urllib.request import urlopen\n",
    "from bs4 import BeautifulSoup\n",
    "\n",
    "# Create target directory & all intermediate directories if don't exists\n",
    "dirName = '/Users/chung/Desktop/SaveSace/HereNnow'\n",
    "os.makedirs(dirName)  \n",
    "\n",
    "\n",
    "url = \"https://de.indeed.com/Jobs?l=hamburg&sort=date\"\n",
    "indeedJobsHamburg = urlopen(url)\n",
    "indeedJobsHamburg = BeautifulSoup(indeedJobsHamburg, \"html.parser\")\n",
    "jobColumn = indeedJobsHamburg.find(id=\"resultsCol\") \n",
    "jobDivs = jobColumn.find_all(class_=\"jobsearch-SerpJobCard unifiedRow row result\")\n",
    "\n",
    "linkList = []\n",
    "for item in jobDivs:\n",
    "    jobHref = item.find(\"a\").attrs['href']\n",
    "    jobLink = \"https://de.indeed.com\" + jobHref\n",
    "    linkList.append(jobLink)\n",
    "    \n",
    "\n",
    "# Create new file for each page in directory\n",
    "counter = 1\n",
    "for linkJobPage in linkList:    \n",
    "    new_path = '/Users/chung/Desktop/SaveSace/HereNnow/damnNice_' + str(counter) + '.txt'\n",
    "    new_days = open(new_path,'w')\n",
    "    \n",
    "    jobPage = urlopen(linkJobPage)\n",
    "    jobPage = BeautifulSoup(jobPage, \"html.parser\")    \n",
    "    jobPageHtmlString = str(jobPage)\n",
    "    \n",
    "    # Write into new file\n",
    "    new_days.write(jobPageHtmlString)\n",
    "    new_days.close()\n",
    "    counter += 1\n",
    "\n",
    "\n",
    "# TO DO\n",
    "# Code just runs if path does not exist. Have to delete folders after every code execution\n"
   ]
  },
  {
   "cell_type": "code",
   "execution_count": null,
   "metadata": {},
   "outputs": [],
   "source": []
  },
  {
   "cell_type": "code",
   "execution_count": null,
   "metadata": {},
   "outputs": [],
   "source": []
  }
 ],
 "metadata": {
  "kernelspec": {
   "display_name": "Python 3",
   "language": "python",
   "name": "python3"
  },
  "language_info": {
   "codemirror_mode": {
    "name": "ipython",
    "version": 3
   },
   "file_extension": ".py",
   "mimetype": "text/x-python",
   "name": "python",
   "nbconvert_exporter": "python",
   "pygments_lexer": "ipython3",
   "version": "3.7.3"
  }
 },
 "nbformat": 4,
 "nbformat_minor": 2
}
