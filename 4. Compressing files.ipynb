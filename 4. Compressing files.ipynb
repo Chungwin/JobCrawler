{
 "cells": [
  {
   "cell_type": "code",
   "execution_count": 7,
   "metadata": {},
   "outputs": [],
   "source": [
    "import zipfile, os\n",
    "import shutil\n",
    "\n",
    "# Crete Zip-file in directory where files are\n",
    "handle = zipfile.ZipFile('TestCompressZIP', 'w')\n",
    "os.chdir('/Users/chung/Desktop/SaveSpace/Docs/')\n",
    "\n",
    "for x in os.listdir():\n",
    "    if x.endswith('.txt'):\n",
    "        handle.write(x, compress_type = zipfile.ZIP_DEFLATED)\n",
    "        \n",
    "handle.close()\n",
    "\n",
    "# Move Zip-file to another directory\n",
    "shutil.move(\"/Users/chung/Desktop/SaveSpace/Docs/TestCompressZIP\", \"/Users/chung/Desktop/SaveSpace/Zip/\")\n",
    "\n",
    "# Delete \"old\" files\n",
    "shutil.rmtree(\"/Users/chung/Desktop/SaveSpace/Docs\")\n",
    "\n",
    "\n",
    "\n",
    "\n",
    "# How to change directory where zip file is safed\n",
    "# Delete all the fies after zipped (and analysed!)\n",
    "\n",
    "## ------------------\n",
    "\n",
    "# Step 1: download all htmtl.txt files  (file 2)\n",
    "# Step 2: Analyse // pandas numpy   (file 3)\n",
    "# Step 3: compress, move, delete  (file 4)\n",
    "\n",
    "\n",
    "# How to make it run somoothly multiple times ...?!\n",
    "\n",
    "\n",
    "## ------------------\n",
    "# NEXT\n",
    "# Functions, Classes etc. \n",
    "# Git"
   ]
  },
  {
   "cell_type": "code",
   "execution_count": null,
   "metadata": {},
   "outputs": [],
   "source": []
  }
 ],
 "metadata": {
  "kernelspec": {
   "display_name": "Python 3",
   "language": "python",
   "name": "python3"
  },
  "language_info": {
   "codemirror_mode": {
    "name": "ipython",
    "version": 3
   },
   "file_extension": ".py",
   "mimetype": "text/x-python",
   "name": "python",
   "nbconvert_exporter": "python",
   "pygments_lexer": "ipython3",
   "version": "3.7.3"
  }
 },
 "nbformat": 4,
 "nbformat_minor": 2
}
