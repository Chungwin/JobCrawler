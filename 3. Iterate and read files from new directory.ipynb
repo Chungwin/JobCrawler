{
 "cells": [
  {
   "cell_type": "code",
   "execution_count": null,
   "metadata": {},
   "outputs": [],
   "source": [
    "import os\n",
    "from bs4 import BeautifulSoup\n",
    "import pandas as pd\n",
    "import numpy as np\n",
    "\n",
    "\n",
    "directory = '/Users/chung/Desktop/SaveSpace/Docs/'     #  <--- Put in here directory !!!!\n",
    "\n",
    "master_list = []\n",
    "\n",
    "for filename in os.listdir(directory):\n",
    "    if filename.endswith(\".txt\"):\n",
    "        f = open(directory + filename)\n",
    "        lines = f.read()\n",
    "        html = BeautifulSoup(lines, \"html.parser\")\n",
    "        \n",
    "        job_page_item_list = []\n",
    "        \n",
    "        # ListItems\n",
    "        publish_date = html.find(class_=\"jobsearch-JobMetadataFooter\").get_text()\n",
    "        job_page_item_list.append(publish_date)\n",
    "\n",
    "        company = html.find(class_=\"icl-u-lg-mr--sm icl-u-xs-mr--xs\").get_text()\n",
    "        job_page_item_list.append(company)\n",
    "\n",
    "        title = html.find(\"title\").get_text()\n",
    "        job_page_item_list.append(title)\n",
    "\n",
    "        job_description_text = html.find(id=\"jobDescriptionText\").get_text()\n",
    "\n",
    "        word_count = len(job_description_text)\n",
    "        job_page_item_list.append(word_count)\n",
    "        #jobPageItemList.append(url)\n",
    "\n",
    "        # Add jobPageItemList to masterList\n",
    "        master_list.append(job_page_item_list)\n",
    "        \n",
    "        print (job_page_item_list)\n",
    "\n",
    "df0 = pd.DataFrame(np.array(master_list),\n",
    "           columns=['Date', 'Company', 'JobTitle', 'Wordcount'])    # <---- ADD URL TO THAT\n",
    "\n",
    "df0\n",
    "\n",
    "\n",
    "# TO DO \n",
    "# Clean Date column\n",
    "# ADD url to data frame"
   ]
  },
  {
   "cell_type": "code",
   "execution_count": null,
   "metadata": {},
   "outputs": [],
   "source": []
  },
  {
   "cell_type": "code",
   "execution_count": null,
   "metadata": {},
   "outputs": [],
   "source": []
  }
 ],
 "metadata": {
  "kernelspec": {
   "display_name": "Python 3",
   "language": "python",
   "name": "python3"
  },
  "language_info": {
   "codemirror_mode": {
    "name": "ipython",
    "version": 3
   },
   "file_extension": ".py",
   "mimetype": "text/x-python",
   "name": "python",
   "nbconvert_exporter": "python",
   "pygments_lexer": "ipython3",
   "version": "3.7.3"
  }
 },
 "nbformat": 4,
 "nbformat_minor": 2
}
