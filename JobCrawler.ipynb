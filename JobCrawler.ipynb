{
 "cells": [
  {
   "cell_type": "raw",
   "metadata": {},
   "source": []
  },
  {
   "cell_type": "code",
   "execution_count": 1,
   "metadata": {},
   "outputs": [
    {
     "name": "stdout",
     "output_type": "stream",
     "text": [
      "['Evangelisch-Lutherischen Kirche in Norddeutschland - vor 5 Stunden - speichern - Diesen Job melden - Originaljob', 'Evangelisch-Lutherischen Kirche in Norddeutschland', 'Sekretariats- und Verwaltungsfachkraft - 20357 Hamburg - Indeed.com', 1920, 'https://de.indeed.com/jobs?q=&l=hamburg&sort=date']\n",
      "['TERBERG Spezialfahrzeuge - vor 1 Stunde - speichern - Diesen Job melden - Originaljob', 'TERBERG Spezialfahrzeuge', 'Kaufmännischer Mitarbeiter (m/w/d) im Bereich Lagerverwaltung/Ersatzteilwesen - 21107 Hamburg - Indeed.com', 1709, 'https://de.indeed.com/jobs?q=&l=hamburg&sort=date']\n",
      "['vor 5 Stunden - speichern - Diesen Job melden', 'E&M Projektbau und Technik GmbH', 'Bürofachkraft - 22459 Hamburg - Indeed.com', 2010, 'https://de.indeed.com/jobs?q=&l=hamburg&sort=date']\n",
      "['vor 3 Stunden - speichern - Diesen Job melden', 'SOS-Pfotenparadies Gemeinnütziger e.V', 'Mitarbeiter für Info Stand gesucht - Hamburg - Indeed.com', 804, 'https://de.indeed.com/jobs?q=&l=hamburg&sort=date']\n",
      "['Buhck Umweltservices - vor 2 Stunden - speichern - Diesen Job melden - Originaljob', 'BAR Buhck Abfallverwertung und Recycling GmbH & Co. KG', 'Kaufmännischer Mitarbeiter für die Auftragsannahme (m/w/d) - Hamburg - Indeed.com', 1140, 'https://de.indeed.com/jobs?q=&l=hamburg&sort=date']\n",
      "['OTTO Office GmbH & Co KG - vor 4 Stunden - speichern - Diesen Job melden - Originaljob', 'OTTO Office GmbH & Co KG', 'Sachbearbeiter Personalverwaltung - Organisation und Aufgaben (w/m/divers) - Hamburg - Indeed.com', 1622, 'https://de.indeed.com/jobs?q=&l=hamburg&sort=date']\n",
      "['Freie und Hansestadt Hamburg - vor 3 Stunden - speichern - Diesen Job melden - Originaljob', 'Freie und Hansestadt Hamburg', 'Hausmeisterin oder Hausmeister (m/w/d) an der Grundschule Knauerstraße - Hamburg - Indeed.com', 3572, 'https://de.indeed.com/jobs?q=&l=hamburg&sort=date']\n",
      "['hagebaumarkt Möller & Förster GmbH & Co. KG - vor 1 Stunde - speichern - Diesen Job melden - Originaljob', 'hagebaumarkt Möller & Förster GmbH & Co. KG', 'Warenverräumer (m/w/d) - Vollzeit in Hummelsbüttel - Hummelsbüttel - Indeed.com', 617, 'https://de.indeed.com/jobs?q=&l=hamburg&sort=date']\n",
      "['ASB-Sozialeinrichtungen Hamburg GmbH - vor 3 Stunden - speichern - Diesen Job melden - Originaljob', 'ASB-Sozialeinrichtungen Hamburg GmbH', 'Fahrer (w/m/d) TPR-Fahrer-001-20181130 - Hamburg - Indeed.com', 793, 'https://de.indeed.com/jobs?q=&l=hamburg&sort=date']\n",
      "['Freie und Hansestadt Hamburg - vor 3 Stunden - speichern - Diesen Job melden - Originaljob', 'Freie und Hansestadt Hamburg', 'Projektleitung \"Weiterentwicklung des Informationsservice im Studierendenzentrum - Hamburg - Indeed.com', 4864, 'https://de.indeed.com/jobs?q=&l=hamburg&sort=date']\n",
      "['vor 3 Tagen - speichern - Diesen Job melden', 'Lisa Schaefer GBR', 'Datenanalyist/in / Tester/in im Homeoffice gesucht - Hamburg - Indeed.com', 1127, 'https://de.indeed.com/jobs?q=&l=hamburg&sort=date']\n",
      "['Olympus Europa SE & Co. KG - vor 30+ Tagen - speichern - Diesen Job melden - Originaljob', 'Olympus Europa SE & Co. KG', 'Mitarbeiter/in in der Fertigung - Hamburg - Indeed.com', 55, 'https://de.indeed.com/jobs?q=&l=hamburg&sort=date']\n",
      "['vor 30+ Tagen - speichern - Diesen Job melden', 'little talks Fundraising GmbH', 'Moin Hamburg! 2.000 - 3.000 € Nebenjob Ferienjob 2019 - Hamburg - Indeed.com', 1639, 'https://de.indeed.com/jobs?q=&l=hamburg&sort=date']\n",
      " \n",
      "[['Evangelisch-Lutherischen Kirche in Norddeutschland - vor 5 Stunden - speichern - Diesen Job melden - Originaljob', 'Evangelisch-Lutherischen Kirche in Norddeutschland', 'Sekretariats- und Verwaltungsfachkraft - 20357 Hamburg - Indeed.com', 1920, 'https://de.indeed.com/jobs?q=&l=hamburg&sort=date'], ['TERBERG Spezialfahrzeuge - vor 1 Stunde - speichern - Diesen Job melden - Originaljob', 'TERBERG Spezialfahrzeuge', 'Kaufmännischer Mitarbeiter (m/w/d) im Bereich Lagerverwaltung/Ersatzteilwesen - 21107 Hamburg - Indeed.com', 1709, 'https://de.indeed.com/jobs?q=&l=hamburg&sort=date'], ['vor 5 Stunden - speichern - Diesen Job melden', 'E&M Projektbau und Technik GmbH', 'Bürofachkraft - 22459 Hamburg - Indeed.com', 2010, 'https://de.indeed.com/jobs?q=&l=hamburg&sort=date'], ['vor 3 Stunden - speichern - Diesen Job melden', 'SOS-Pfotenparadies Gemeinnütziger e.V', 'Mitarbeiter für Info Stand gesucht - Hamburg - Indeed.com', 804, 'https://de.indeed.com/jobs?q=&l=hamburg&sort=date'], ['Buhck Umweltservices - vor 2 Stunden - speichern - Diesen Job melden - Originaljob', 'BAR Buhck Abfallverwertung und Recycling GmbH & Co. KG', 'Kaufmännischer Mitarbeiter für die Auftragsannahme (m/w/d) - Hamburg - Indeed.com', 1140, 'https://de.indeed.com/jobs?q=&l=hamburg&sort=date'], ['OTTO Office GmbH & Co KG - vor 4 Stunden - speichern - Diesen Job melden - Originaljob', 'OTTO Office GmbH & Co KG', 'Sachbearbeiter Personalverwaltung - Organisation und Aufgaben (w/m/divers) - Hamburg - Indeed.com', 1622, 'https://de.indeed.com/jobs?q=&l=hamburg&sort=date'], ['Freie und Hansestadt Hamburg - vor 3 Stunden - speichern - Diesen Job melden - Originaljob', 'Freie und Hansestadt Hamburg', 'Hausmeisterin oder Hausmeister (m/w/d) an der Grundschule Knauerstraße - Hamburg - Indeed.com', 3572, 'https://de.indeed.com/jobs?q=&l=hamburg&sort=date'], ['hagebaumarkt Möller & Förster GmbH & Co. KG - vor 1 Stunde - speichern - Diesen Job melden - Originaljob', 'hagebaumarkt Möller & Förster GmbH & Co. KG', 'Warenverräumer (m/w/d) - Vollzeit in Hummelsbüttel - Hummelsbüttel - Indeed.com', 617, 'https://de.indeed.com/jobs?q=&l=hamburg&sort=date'], ['ASB-Sozialeinrichtungen Hamburg GmbH - vor 3 Stunden - speichern - Diesen Job melden - Originaljob', 'ASB-Sozialeinrichtungen Hamburg GmbH', 'Fahrer (w/m/d) TPR-Fahrer-001-20181130 - Hamburg - Indeed.com', 793, 'https://de.indeed.com/jobs?q=&l=hamburg&sort=date'], ['Freie und Hansestadt Hamburg - vor 3 Stunden - speichern - Diesen Job melden - Originaljob', 'Freie und Hansestadt Hamburg', 'Projektleitung \"Weiterentwicklung des Informationsservice im Studierendenzentrum - Hamburg - Indeed.com', 4864, 'https://de.indeed.com/jobs?q=&l=hamburg&sort=date'], ['vor 3 Tagen - speichern - Diesen Job melden', 'Lisa Schaefer GBR', 'Datenanalyist/in / Tester/in im Homeoffice gesucht - Hamburg - Indeed.com', 1127, 'https://de.indeed.com/jobs?q=&l=hamburg&sort=date'], ['Olympus Europa SE & Co. KG - vor 30+ Tagen - speichern - Diesen Job melden - Originaljob', 'Olympus Europa SE & Co. KG', 'Mitarbeiter/in in der Fertigung - Hamburg - Indeed.com', 55, 'https://de.indeed.com/jobs?q=&l=hamburg&sort=date'], ['vor 30+ Tagen - speichern - Diesen Job melden', 'little talks Fundraising GmbH', 'Moin Hamburg! 2.000 - 3.000 € Nebenjob Ferienjob 2019 - Hamburg - Indeed.com', 1639, 'https://de.indeed.com/jobs?q=&l=hamburg&sort=date']]\n"
     ]
    }
   ],
   "source": [
    "from urllib.request import urlopen\n",
    "from bs4 import BeautifulSoup\n",
    "\n",
    "url = \"https://de.indeed.com/jobs?q=&l=hamburg&sort=date\" \n",
    "# Indeed.com Jobs in Hamburg sorted by date\n",
    "\n",
    "indeedJobsHamburg = urlopen(url)\n",
    "indeedJobsHamburg = BeautifulSoup(indeedJobsHamburg, \"html.parser\")\n",
    "jobColumn = indeedJobsHamburg.find(id=\"resultsCol\") \n",
    "jobDivs = jobColumn.find_all(class_=\"jobsearch-SerpJobCard unifiedRow row result\")\n",
    "\n",
    "masterList = []\n",
    "\n",
    "# List of Job Links Page 1 \n",
    "linkList = []\n",
    "for item in jobDivs:\n",
    "    jobHref = item.find(\"a\").attrs['href']\n",
    "    jobLink = \"https://de.indeed.com\" + jobHref\n",
    "    linkList.append(jobLink)\n",
    "\n",
    "# Get links out of linkList, crawl through jobPage\n",
    "for linkJobPage in linkList:    \n",
    "    \n",
    "    jobPage = urlopen(linkJobPage)\n",
    "    jobPage = BeautifulSoup(jobPage, \"html.parser\")    \n",
    "     \n",
    "    # Collect items of jobPage here    \n",
    "    jobPageItemList = []\n",
    "\n",
    "    # ListItems\n",
    "    publishDate = jobPage.find(class_=\"jobsearch-JobMetadataFooter\").get_text()\n",
    "    jobPageItemList.append(publishDate)\n",
    "\n",
    "    company = jobPage.find(class_=\"icl-u-lg-mr--sm icl-u-xs-mr--xs\").get_text()\n",
    "    jobPageItemList.append(company)\n",
    "\n",
    "    title = jobPage.find(\"title\").get_text()\n",
    "    jobPageItemList.append(title)\n",
    "\n",
    "    jobDescriptionText = jobPage.find(id=\"jobDescriptionText\").get_text()\n",
    "\n",
    "    wordCount = len(jobDescriptionText)\n",
    "    jobPageItemList.append(wordCount)\n",
    "    jobPageItemList.append(url)\n",
    "    \n",
    "    # Add jobPageItemList to masterList\n",
    "    masterList.append(jobPageItemList)\n",
    "    \n",
    "    print (jobPageItemList)\n",
    "\n",
    "print (\" \")\n",
    "print (masterList)\n",
    "\n",
    "   \n",
    "    "
   ]
  },
  {
   "cell_type": "code",
   "execution_count": null,
   "metadata": {},
   "outputs": [],
   "source": []
  },
  {
   "cell_type": "code",
   "execution_count": null,
   "metadata": {},
   "outputs": [],
   "source": []
  }
 ],
 "metadata": {
  "kernelspec": {
   "display_name": "Python 3",
   "language": "python",
   "name": "python3"
  },
  "language_info": {
   "codemirror_mode": {
    "name": "ipython",
    "version": 3
   },
   "file_extension": ".py",
   "mimetype": "text/x-python",
   "name": "python",
   "nbconvert_exporter": "python",
   "pygments_lexer": "ipython3",
   "version": "3.6.5"
  }
 },
 "nbformat": 4,
 "nbformat_minor": 2
}
