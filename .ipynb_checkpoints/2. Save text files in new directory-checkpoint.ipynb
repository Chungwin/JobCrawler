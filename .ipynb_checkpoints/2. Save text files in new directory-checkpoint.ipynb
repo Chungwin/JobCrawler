{
 "cells": [
  {
   "cell_type": "code",
   "execution_count": 1,
   "metadata": {},
   "outputs": [],
   "source": [
    "import os\n",
    "\n",
    "# Create target directory & all intermediate directories if don't exists\n",
    "dirName = '/Users/chung/Desktop/SaveSpace/Docs'\n",
    "os.makedirs(dirName)"
   ]
  },
  {
   "cell_type": "code",
   "execution_count": null,
   "metadata": {},
   "outputs": [],
   "source": [
    "from urllib.request import urlopen\n",
    "from bs4 import BeautifulSoup\n",
    "\n",
    "# Save Job Pages as HTML file in directory created above\n",
    "\n",
    "counter = 0\n",
    "while counter < 20:  # <----- HOW MANY PAGES TO CRAWL?!??!?!? Number x 10\n",
    "    # Open and crawl page\n",
    "    url = \"https://de.indeed.com/Jobs?l=hamburg&sort=date&start=\" + str(counter) \n",
    "    indeedJobsHamburg = urlopen(url)\n",
    "    indeedJobsHamburg = BeautifulSoup(indeedJobsHamburg, \"html.parser\")\n",
    "    jobColumn = indeedJobsHamburg.find(id=\"resultsCol\") \n",
    "    jobDivs = jobColumn.find_all(class_=\"jobsearch-SerpJobCard unifiedRow row result\")\n",
    "\n",
    "    linkList = []\n",
    "    for item in jobDivs:\n",
    "        jobHref = item.find(\"a\").attrs['href']\n",
    "        jobLink = \"https://de.indeed.com\" + jobHref\n",
    "        linkList.append(jobLink)\n",
    "    \n",
    "    # Create new file for each page in directory\n",
    "    fileCounter = 1\n",
    "    for linkJobPage in linkList:    \n",
    "        jobPage = urlopen(linkJobPage)\n",
    "        jobPage = BeautifulSoup(jobPage, \"html.parser\")    \n",
    "        jobPageHtmlString = str(jobPage)\n",
    "        \n",
    "        # Save Date & Title for Filenames\n",
    "        publishDate = jobPage.find(class_=\"jobsearch-JobMetadataFooter\").get_text()\n",
    "        company = jobPage.find(class_=\"icl-u-lg-mr--sm icl-u-xs-mr--xs\").get_text()\n",
    "        \n",
    "        new_path = '/Users/chung/Desktop/SaveSpace/Docs/' + str(counter) + str(fileCounter) + '.txt'\n",
    "        new_days = open(new_path,'w')\n",
    "        \n",
    "        # Write into new file\n",
    "        new_days.write(jobPageHtmlString)\n",
    "        new_days.close()\n",
    "        fileCounter += 1\n",
    "        \n",
    "    counter += 10\n",
    "\n",
    "    \n",
    "\n"
   ]
  },
  {
   "cell_type": "code",
   "execution_count": null,
   "metadata": {},
   "outputs": [],
   "source": []
  }
 ],
 "metadata": {
  "kernelspec": {
   "display_name": "Python 3",
   "language": "python",
   "name": "python3"
  },
  "language_info": {
   "codemirror_mode": {
    "name": "ipython",
    "version": 3
   },
   "file_extension": ".py",
   "mimetype": "text/x-python",
   "name": "python",
   "nbconvert_exporter": "python",
   "pygments_lexer": "ipython3",
   "version": "3.7.3"
  }
 },
 "nbformat": 4,
 "nbformat_minor": 2
}
