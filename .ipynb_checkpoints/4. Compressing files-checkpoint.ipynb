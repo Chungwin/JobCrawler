{
 "cells": [
  {
   "cell_type": "code",
   "execution_count": 7,
   "metadata": {},
   "outputs": [],
   "source": [
    "import zipfile, os\n",
    "\n",
    "handle = zipfile.ZipFile('TestCompressZIP', 'w')\n",
    "\n",
    "os.chdir('/Users/chung/Desktop/SaveSpace/Docs/')\n",
    "\n",
    "for x in os.listdir():\n",
    "    if x.endswith('.txt'):\n",
    "        handle.write(x, compress_type = zipfile.ZIP_DEFLATED)\n",
    "        \n",
    "handle.close()\n",
    "\n",
    "# How to change directory where zip file is safed\n",
    "# Delete all the fies after zipped (and analysed!)"
   ]
  },
  {
   "cell_type": "code",
   "execution_count": null,
   "metadata": {},
   "outputs": [],
   "source": []
  }
 ],
 "metadata": {
  "kernelspec": {
   "display_name": "Python 3",
   "language": "python",
   "name": "python3"
  },
  "language_info": {
   "codemirror_mode": {
    "name": "ipython",
    "version": 3
   },
   "file_extension": ".py",
   "mimetype": "text/x-python",
   "name": "python",
   "nbconvert_exporter": "python",
   "pygments_lexer": "ipython3",
   "version": "3.7.3"
  }
 },
 "nbformat": 4,
 "nbformat_minor": 2
}
